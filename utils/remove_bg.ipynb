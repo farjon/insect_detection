{
 "cells": [
  {
   "cell_type": "code",
   "execution_count": 1,
   "metadata": {},
   "outputs": [],
   "source": [
    "import os\n",
    "import cv2\n",
    "from glob import glob"
   ]
  },
  {
   "cell_type": "code",
   "execution_count": 2,
   "metadata": {},
   "outputs": [
    {
     "ename": "IndentationError",
     "evalue": "expected an indented block (<ipython-input-2-58acf9460dc9>, line 12)",
     "output_type": "error",
     "traceback": [
      "\u001b[1;36m  File \u001b[1;32m\"<ipython-input-2-58acf9460dc9>\"\u001b[1;36m, line \u001b[1;32m12\u001b[0m\n\u001b[1;33m    def fix_coordinates()\u001b[0m\n\u001b[1;37m      ^\u001b[0m\n\u001b[1;31mIndentationError\u001b[0m\u001b[1;31m:\u001b[0m expected an indented block\n"
     ]
    }
   ],
   "source": [
    "ROOT_DIR = 'C:\\\\Users\\\\owner\\\\PycharmProjects\\\\Insect_detection\\\\Data\\\\stage_1\\\\'\n",
    "input_dir = os.path.join(ROOT_DIR, 'yolo_no_test')\n",
    "output_dir = os.path.join(ROOT_DIR, 'yolo_no_test_no_bg')\n",
    "\n",
    "new_x_min = 800\n",
    "new_y_min = 400\n",
    "new_w = 3800\n",
    "new_h = 2300\n",
    "\n",
    "def check_bbox_in_croped_image(cropped_img, bbox, w, h):\n",
    "    \n",
    "    \n",
    "def fix_coordinates(bbox):\n",
    "\n",
    "    \n",
    "sets = ['train', 'val']\n",
    "for current_set in sets:\n",
    "    set_folder = os.path.join(output_dir, current_set)\n",
    "    os.makedirs(set_folder, exist_ok=True)\n",
    "    for img_path, annot in zip(glob(os.path.join(input_dir, current_set, '*.jpg')), glob(glob(os.path.join(input_dir, current_set, '*.jpg')))):\n",
    "        image = cv2.imread(img_path)\n",
    "        h, w, _ = image.shape\n",
    "        cropped_img = image[new_y_min:new_h, new_x_min:new_w]\n",
    "        with open(annot, 'r') as annotation_file:\n",
    "            for line in annotation_file:\n",
    "                annotation = line.split(' ')\n",
    "                bbox = annotation[1:]\n",
    "                if check_bbox_in_croped_image(cropped_img, bbox, h, w):\n",
    "                    new_bbox = fix_coordinates(bbox)\n",
    "                    print(new_bbox)\n",
    "                    "
   ]
  }
 ],
 "metadata": {
  "kernelspec": {
   "display_name": "Python 3",
   "language": "python",
   "name": "python3"
  },
  "language_info": {
   "codemirror_mode": {
    "name": "ipython",
    "version": 3
   },
   "file_extension": ".py",
   "mimetype": "text/x-python",
   "name": "python",
   "nbconvert_exporter": "python",
   "pygments_lexer": "ipython3",
   "version": "3.6.5"
  }
 },
 "nbformat": 4,
 "nbformat_minor": 4
}
